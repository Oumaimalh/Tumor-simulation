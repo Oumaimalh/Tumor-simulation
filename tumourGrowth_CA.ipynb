{
 "cells": [
  {
   "cell_type": "markdown",
   "metadata": {},
   "source": [
    "# Modeling a solid tumor via a Cellular Automaton\n",
    "\n",
    "This work deals with mathematical modeling of tumour growth, we present an example of a model of a solid cancer tumour and this modeling uses cellular automata which is consider as a grid of size $N\\times N$. We begin the simulation with four proliferating cancer stem cells which reside in the centre of the grid of the Cellular Automaton and they react with the environment via certain partial differential equations (PDEs). We show how these proliferating cells develop by consumption and production of nutrients in the medium (oxygen, glucose, hydrogen), and how it react with the constraint ECM by secreting MDE, and the decision of life cycle of each cells is taken by neural network which takes the last chemicls filed concentrations as a input data.\n",
    "The multiplication of the cells introduces new proliferating cells, quiescent, necrotic or in apopotosis.\n",
    "\n",
    "After the tumour has reached to a certain size the process of formation of new blood vessels (angiogenesis) re-supply the tumour with sufficient nutrients for growth, and this process enlarge the probability of occurrence of bad mutation.\n",
    "\n",
    "The primary objective of this part is to present the function of the cellular automaton and the evolution of the tumour and regarding the results. We applied the simulations using SageMath sofware which provides us with a number of software, libraries and functions that solve our problem."
   ]
  },
  {
   "cell_type": "markdown",
   "metadata": {},
   "source": [
    "## 1. Avascular stage \n",
    "In this stage the cell react with the envoirement, the neural network takes the decision of the phenotypw with consideration that the cell can only move or proliferate only if there are empty adjacent lattice in addition of the availability of sufficient nutrients and if this condition is not available the cell become quiessence. The type of the cell, cancer stem cell (CSC) or cancer non stem cell (CC) affect the life cycle decision as result of the various biological properties of each type. And the density of cells in each grid in this stage take the value 1 if the lattice is occupied by cell and the value $0$ if not."
   ]
  },
  {
   "cell_type": "code",
   "execution_count": 33,
   "metadata": {},
   "outputs": [],
   "source": [
    "#!pip install sympy"
   ]
  },
  {
   "cell_type": "markdown",
   "metadata": {},
   "source": [
    "* First at all we import all the package data that we need"
   ]
  },
  {
   "cell_type": "code",
   "execution_count": 34,
   "metadata": {},
   "outputs": [],
   "source": [
    "import sympy as sp\n",
    "from math import floor\n",
    "import numpy as np\n",
    "import matplotlib.pylab as plt\n",
    "import operator\n",
    "import random\n",
    "import matplotlib\n",
    "import math\n",
    "%matplotlib inline "
   ]
  },
  {
   "cell_type": "markdown",
   "metadata": {},
   "source": [
    "### 1.1 Insertion the input data\n",
    "\n",
    "We in enter the input data which is needed for beginning the simulation, we insert:\n",
    "* the sixe of the grid, and we pose to make the simulation in the three-quarters of the grid to ensure the sherique form of the tumor in the end of the simulation.\n",
    "* space step which is depended in real size of the single cell , and the length scale.\n",
    "* the time step which depending in number of steps of the simulation, and the time scale which is taken as the average time of cell cytle.\n",
    "* the probability of symetric division of the CSC and the number of oucciped adjcant places.\n",
    "* we define two trait vector depend on cell type, which have information about biological properties like proliferation age, proliferation potential, internal adhesion value, spontaneous death probability , and boolean case to describe the type of the cell."
   ]
  },
  {
   "cell_type": "code",
   "execution_count": 35,
   "metadata": {},
   "outputs": [],
   "source": [
    "GS_N=400  #Size of grid.\n",
    "N= int (GS_N*3/4)  #Condition to have the spherical form of tumour.\n",
    "H=0.0025  #Space step.\n",
    "dt=1/(150*24) #Time step.\n",
    "tau= 16  #Time scale.\n",
    "L=2  #Length scale.\n",
    "N1 = 3    #Number of occupied adjacent places of the first cells.\n",
    "V0=[16, +sp.oo, 3, 0, True]  #trait vector for CSC.\n",
    "rho=10  #Initial proliferative potential of CCs.\n",
    "spd=0.01  #Spontaneous death probability\n",
    "V1=[16, rho, 3, spd, False] #trait vector for CC."
   ]
  },
  {
   "cell_type": "markdown",
   "metadata": {},
   "source": [
    "* The necessary data for solving the partial differential equations the diffusion constants, the consumption, production, or the decay rate of the chemicals\n",
    "* for calcualting the movement probabilities we need the haptotaxis or chemotaxis coefficient. "
   ]
  },
  {
   "cell_type": "code",
   "execution_count": 36,
   "metadata": {},
   "outputs": [],
   "source": [
    "Dc=1.8*10**(-5)    #Oxygen diffusion constant.\n",
    "dc=Dc*tau/L**(2)\n",
    "Dm=10**(-9)        #MDE diffusion constant.\n",
    "dm=Dm*tau/L**(2)\n",
    "Dg=9.1*10**(-5)    #Glocose diffusion constant.\n",
    "dg=Dg*tau/L**(2)\n",
    "Dh=1.1*10**(-5)    #Hydrogen diffusion constant.\n",
    "dh=Dh*tau/L**(2)\n",
    "vc=0               #Production term of oxygen.\n",
    "wc=10              #Uptake constant of oxygen.\n",
    "phi=0.025          #Decay constant of oxygen.\n",
    "alpha=0.1          #Production constant of MDE.\n",
    "wm=0.01            #Uptake constant of MDE.\n",
    "nf=50              #Decay constant of ECM.\n",
    "\n",
    "rg=0.007           #Uptake rate of glocose.\n",
    "rh=0.007           #Production rate of hydrogen.\n",
    "\n",
    "dn=0.001           #Random diffusion constant.\n",
    "xh=0.01            #Haptotaxis constant.\n",
    "xc=0.02            #Chemotaxis constant.\n",
    "\n",
    "Ps = 0.8           #Symmetric division probability.\n",
    "P_m_1=0.01         #Probability of mutaion.\n",
    "\n",
    "kem1 = dt*H**(-2)\n",
    "kem2 = dn*kem1\n",
    "kem3 = kem1*xh/8\n",
    "c_1 = kem2\n",
    "c_2 = kem3"
   ]
  },
  {
   "cell_type": "code",
   "execution_count": 37,
   "metadata": {},
   "outputs": [
    {
     "data": {
      "text/plain": [
       "0.000364"
      ]
     },
     "execution_count": 37,
     "metadata": {},
     "output_type": "execute_result"
    }
   ],
   "source": [
    "dg"
   ]
  },
  {
   "cell_type": "markdown",
   "metadata": {},
   "source": [
    "### 1.2 Updating the chemical fields\n",
    "We update the chemical fields for all living cells by the solving the partial differential equations each time step using Euler finite difference approximations.\n",
    "\n",
    "The system of  partial differential equations:\n",
    "\\begin{equation}\n",
    "\\begin{aligned}\n",
    " \\frac{\\partial f}{\\partial t} & = \\overbrace{-\\delta.m.f}^{degradation}\\\\\n",
    " \\frac{\\partial m}{\\partial t} & = \\overbrace{D_{m}.\\nabla^{2}{m}}^{diffusion}+\\overbrace{g(n,m)}^{production}-\\overbrace{h(n,m,f)}^{decay} \\\\\n",
    " \\frac{\\partial c}{\\partial t} & = \\overbrace{D_{c}.\\nabla^{2}{c}}^{diffusion}+\\overbrace{\\beta.f}^{production}-\\overbrace{\\gamma.n}^{uptake}-\\overbrace{\\alpha.c}^{decay}\\\\\n",
    " \\frac{\\partial g}{\\partial t} & = D_g.\\nabla^{2}{g}(\\vec x,t)-f_{g}(\\vec x,t)\\\\\n",
    " \\frac{\\partial h}{\\partial t} & = D_h.\\nabla^{2}{h}(\\vec x,t)+f_{h}(\\vec x,t)\n",
    "\\end{aligned}\n",
    "\\end{equation}\n",
    "where f, m , c, g, h describe ECM, MDE, oxygen , glucose and hydrogen concentration respectively."
   ]
  },
  {
   "cell_type": "markdown",
   "metadata": {},
   "source": [
    "\n",
    "#### Explaining briefly the Euler finite difference approximations:\n"
   ]
  },
  {
   "cell_type": "code",
   "execution_count": 38,
   "metadata": {},
   "outputs": [],
   "source": [
    "def chemical_fields (L1,AC,f,m,C,g,h):\n",
    "    m_1=m\n",
    "    C_1=C\n",
    "    f_1=f\n",
    "    g_1=g\n",
    "    h_1=h\n",
    "    cst=8*dt*H**(-2)\n",
    "    for k in range (len(L1)):\n",
    "        L1[k][3]=0\n",
    "        i,j=L1[k][0]\n",
    "        if (L1[k][1]== \"Necrotic\")==True:\n",
    "            d_c=0\n",
    "        elif (L1[k][1]==\"Black\")==True:\n",
    "            d_c=0\n",
    "        else:\n",
    "            Lpp=[(i+e,j+ee) for e,ee in zip ([1,0,0,1,1,-1,-1,+1],[0,1,-1,0,1,1,-1,-1]) if 0<=i+e<N if 0<=j+ee<N]\n",
    "            f[i,j] = ((f_1[i,j]*(1-(dt*nf*m_1[i,j]))))\n",
    "            m[i,j] = m_1[i,j]*(1-(cst*dm)-wm*dt)+dt*alpha\n",
    "            C[i,j] = C_1[i,j]*(1-dc*cst-phi*dt)+vc*dt*f_1[i,j]-wc*dt\n",
    "            g[i,j] = g_1[i,j]-rg-dg*cst*g_1[i,j]\n",
    "            h[i,j] = h_1[i,j]+rh-dh*cst*h_1[i,j]\n",
    "            for x in Lpp:\n",
    "                L1[k][3] += AC[x[0],x[1]]\n",
    "                m[i,j] += dm*(cst/8)*(m_1[x[0],x[1]])\n",
    "\n",
    "                C[i,j] += dc*(cst/8)*(C_1[x[0],x[1]])\n",
    "\n",
    "                g[i,j] += dg*(cst/8)*(g_1[x[0],x[1]])\n",
    "\n",
    "\n",
    "                h[i,j] += dh*(cst/8)*(h_1[x[0],x[1]])\n",
    "    #print (C)\n",
    "    return (C,g,h,m,f,L1)"
   ]
  },
  {
   "cell_type": "markdown",
   "metadata": {},
   "source": [
    "### 1.3 Test of the phenotype by the thresholds of the model\n",
    "The firet test determine the phenotype depending on the thresholds of the model, that decide to change the phenotype of the cell to Necrotic as result of insufficient nutrient or to become quiescent due to no adjcant empty place is available."
   ]
  },
  {
   "cell_type": "code",
   "execution_count": 39,
   "metadata": {},
   "outputs": [],
   "source": [
    "def test_one (L1 ,k,i,j):\n",
    "    test=0\n",
    "    if C[i,j]<0.15 or h[i,j]>7.1 or g[i,j]<0.43:\n",
    "        #Netrotic\n",
    "        L1[k][1]=\"Necrotic\"\n",
    "        test=1\n",
    "    elif L1[k][3]== 8:\n",
    "        #Quisescence\n",
    "        test=2\n",
    "    return (test)"
   ]
  },
  {
   "cell_type": "markdown",
   "metadata": {},
   "source": [
    "### 1.4 Neural network role and mutation\n",
    "The neural network aim to make the link between the environment (nutrients), the genotype and the phenotype of the cell, which is described as 3 layer contain nodes have vales, and the connexion between the nodes are two Synaptic weight matrices. The neural network decide the decision that determine the phenotype of the cell. The modeling of a neural network depends on the choice of a transfer function: $T(x)=\\dfrac{1}{1+e^{-2x}}$ , to ensure the node vales is in the interval $[0.1]$\n",
    "* Impact of the mutations:\n",
    "\n",
    "When the cells divide, the network parameters are copied to the daughter cell under mutations, if the cell is a mutated cell, the number of mutation is chosen from a Poisson distribution and the incorrect copying is modelled by adding a normal distributed number with strengh $\\sigma=0.25$\n",
    "to the daughter cell matrix, and this will impact the decision of the phenotype from the network."
   ]
  },
  {
   "cell_type": "code",
   "execution_count": 40,
   "metadata": {},
   "outputs": [],
   "source": [
    "def transfert (x):\n",
    "    return (1/(1+np.exp(-2*x)))"
   ]
  },
  {
   "cell_type": "markdown",
   "metadata": {},
   "source": [
    "* The input layer of the neural network have the value of chemicals, which are the result of solving the PDEs, and the number of adjacent neighbor.\n",
    "* The hidden layer contain the regulatory genes which can be determined by: $V_{j}=T(\\sum_{k}\\omega_{jk}\\xi_{k}-\\theta_{j})$\n",
    "* The output layer determine the output phenotype by: $ Y_{i}=T(\\sum_{j}W_{ij}V{j}-\\phi_{i})$\n",
    "\n",
    "the neural network choose the maximum value of output layer and decide to take its phenotype"
   ]
  },
  {
   "cell_type": "code",
   "execution_count": 41,
   "metadata": {},
   "outputs": [],
   "source": [
    "def network_decision (L1,k):\n",
    "    maxi=[]\n",
    "    #for k in range (len(L1)):\n",
    "    i,j = L1[k][0]\n",
    "    theta = [0.55, 0, 0.7, -0.25 ]\n",
    "    W_RN = np.array([[-0.5,1,-0.5,0], [0,0.5,-0.5,0]])\n",
    "    #w_RN = np.array([[-1,0,0,0,0,0], [0.5,0,0,0,0,0],[0,-2,0,0,1,1],[0,0,-2,0.5,0,0]])\n",
    "    w_RN = np.array([[-1,1,0,0,0,2], [1,1,0,0,0,-1],[0,-2,0,0,1,1],[0,0,-2,0.5,0,0]])\n",
    "    V = [transfert (L1[k][3]),(C[i,j]),(g[i,j]),(h[i,j]),(m[i,j]),(f[i,j])]\n",
    "    if L1[k][4] == False:\n",
    "        W_RN = np.array([[-0.5,1,-0.5,0], [0,0.5,-0.5,0]])\n",
    "    else:\n",
    "        nbr_mutation=np.random.poisson(2)\n",
    "        for ii in range (nbr_mutation):\n",
    "            s=np.random.normal(0.25,0.25)\n",
    "            x_1,x_2=np.random.choice(range(1)),np.random.choice(range(3))\n",
    "            W_RN[x_1,x_2] += s\n",
    "\n",
    "    a = np.dot( w_RN,V)-theta\n",
    "    V=transfert (a)\n",
    "    b=np.dot(W_RN,V)\n",
    "    Y=transfert (b)\n",
    "    #print (Y)\n",
    "    max_index, max_value = max (enumerate (Y), key=operator.itemgetter(1))\n",
    "    maxi.append(max_index)\n",
    "    return(maxi)"
   ]
  },
  {
   "cell_type": "markdown",
   "metadata": {},
   "source": [
    "### 1.5 Proliferation\n",
    "If the proliferation has the maximum value in the output layer of the network, the cell decide to make mitosis under certain conditions depending in the cell type CC or CSC.\n",
    "The cell check if there are empty place around it, then if it find places it can complete the mitosis. One of daughter cells is occupying the mother place and the other cell chooses in random a adjacent lattice and move to it \n",
    "* if the cell is a CSC:\n",
    "\n",
    "with the probability of the symmetric division if the result chooses to do symmetric division the CSC choose a random adjacent empty place and it divide to two CSC, and if the result chooses to do asymmetric division the CSC divide to CSC which stay at the mother lattic and the other cell is CC with deffrent type and biological properties from the mother cell , so the CC will have diffrent trait vector \n",
    "* if the cell is a CC:\n",
    "\n",
    "the cell need first to check that its proliferation potential is bigger than 0, or it will become quiessence, then it divide to two CC and reduce for both of new cells there proliferation potential by 1."
   ]
  },
  {
   "cell_type": "code",
   "execution_count": 42,
   "metadata": {},
   "outputs": [],
   "source": [
    "def L_p_p(i,j,N):\n",
    "    Lpp=[(i+e,j+ee) for e,ee in zip ([-1,0,0,1,1,-1,-1,+1],[0,1,-1,0,1,1,-1,-1]) if 0<=i+e<N if 0<=j+ee<N]\n",
    "    return(Lpp)"
   ]
  },
  {
   "cell_type": "code",
   "execution_count": 43,
   "metadata": {},
   "outputs": [],
   "source": [
    "def choose_place (ii,jj,AC,N):\n",
    "    Lpp=L_p_p(ii,jj,N)\n",
    "    LV = [[kk,ll] for kk,ll in Lpp if AC[kk,ll]==0]\n",
    "    if len(LV)==0:\n",
    "        #print (\"Quiescence\")\n",
    "        return ([],False)\n",
    "    else:\n",
    "        #choose place\n",
    "        return(LV [ np.random.choice(len(LV))], True)"
   ]
  },
  {
   "cell_type": "code",
   "execution_count": 44,
   "metadata": {},
   "outputs": [],
   "source": [
    "def mitosis_under_mutation(m,P_m_1):\n",
    "    if np.random.uniform (0,1) < P_m_1:\n",
    "        m=1\n",
    "    else:\n",
    "        m=0\n",
    "    return (m)"
   ]
  },
  {
   "cell_type": "code",
   "execution_count": 45,
   "metadata": {},
   "outputs": [],
   "source": [
    "def proliferation_test(k,i,j,L1,L2,AC,BC,m,mm,P_m_1,Ps):\n",
    "    i,j=L1[k][0]\n",
    "    if choose_place(i,j,AC,N)[1]== True:\n",
    "        if L1[k][2][4]== True:\n",
    "            #CSC\n",
    "            if np.random.uniform (0,1) > Ps:\n",
    "                #asymetric divisoin\n",
    "                n_1,n_2 = choose_place(i,j,AC,N)[0]\n",
    "                AC[n_1,n_2] = 1\n",
    "                m[n_1,n_2] = mm\n",
    "                L2.append([[i,j], \"red\", V0,L1[k][3],L1[k][4]])\n",
    "                BC[i,j]=\"red\"\n",
    "                if mitosis_under_mutation(0,P_m_1)== 0:\n",
    "                    L2.append([[n_1,n_2], \"red\", V1,L1[k][3],L1[k][4]])\n",
    "                else:\n",
    "                    L2.append([[n_1,n_2], \"red\", V1,L1[k][3],True])\n",
    "                BC[n_1,n_2]=\"red\"\n",
    "            else:\n",
    "                #symetric divisoin\n",
    "                # chose new place for new cell\n",
    "                n_1,n_2 = choose_place(i,j,AC,N)[0]\n",
    "                AC[n_1,n_2]= 1\n",
    "                m[n_1,n_2]= mm\n",
    "                L2.append([[i,j], \"red\", V0,L1[k][3],L1[k][4]])\n",
    "                BC[i,j]=\"red\"\n",
    "                if mitosis_under_mutation(0,P_m_1)== 0:\n",
    "                    L2.append([[n_1,n_2], \"red\", V0,L1[k][3],L1[k][4]])\n",
    "                else:\n",
    "                    L2.append([[n_1,n_2], \"red\", V0,L1[k][3],True])\n",
    "                BC[n_1,n_2]=\"red\"\n",
    "        else:\n",
    "            if L1[k][2][1]<=0:\n",
    "                L2.append ([[i,j], \"green\", V0,L1[k][3],L1[k][4]])\n",
    "                BC[i,j]=\"green\"\n",
    "            else:\n",
    "                #CC symetriqu division\n",
    "                L1[k][2][1]=L1[k][2][1]-1\n",
    "                Vr=L1[k][2]\n",
    "                n_1,n_2 = choose_place(i,j,AC,N)[0]\n",
    "                AC[n_1,n_2]= 1\n",
    "                m[n_1,n_2]= 0.5\n",
    "                L2.append([[i,j], \"red\", Vr,L1[k][3],L1[k][4]])\n",
    "                BC[i,j]=\"red\"\n",
    "                BC[n_1,n_2]=\"red\"\n",
    "                if mitosis_under_mutation(0,P_m_1)==0:\n",
    "                    L2.append([[n_1,n_2], \"red\", Vr,L1[k][3],L1[k][4]])\n",
    "                else:\n",
    "                    L2.append([[n_1,n_2], \"red\", Vr,L1[k][3],True])\n",
    "    else:\n",
    "        L1[k][1]=\"green\"\n",
    "        L2.append (L1[k])\n",
    "        BC[i,j]=\"green\"\n",
    "    return (AC,BC,L1,L2,m)"
   ]
  },
  {
   "cell_type": "markdown",
   "metadata": {},
   "source": [
    "### 1.6 Mouvement\n",
    "If the quiessence has the maximum value in the output layer of the network, the cell decide to move if there are activation of the mouvement, and that's depend on the internal adhesion value from cells' trait vector, so if the internal adhesion value is smaller than number of adjacent cells the mouvement activation happen and the cell move can move to empty adjacent lattice.\n",
    "We need to calculate the probabilty of mouvement to all diagonal and orthogonal adjacent neighbor which can be described as the sum of the random motility and direct motility as result of degrading the ECM. Then by those probability we can determine the direction of movement usieng methode alpha.\n",
    "* The probabilties of mouvement to diagonal and orthogonal adjacent neighbor:\n",
    "\\begin{equation}\n",
    "\\begin{aligned}\n",
    "P_1= & \\frac{kD_n}{h^2}-\\frac{k\\rho_{hapt}}{8h^2}(f_{i+1,j}^{q}-f_{i-1,j}^{q})\\\\\n",
    "P_2= & \\frac{kD_n}{h^2}+\\frac{k\\rho_{hapt}}{8h^2}(f_{i+1,j}^{q}-f_{i-1,j}^{q})\\\\\n",
    "P_3= & \\frac{kD_n}{h^2}-\\frac{k\\rho_{hapt}}{8h^2}(f_{i,j+1}^{q}-f_{i,j-1}^{q})\\\\\n",
    "P_4= & \\frac{kD_n}{h^2}+\\frac{k\\rho_{hapt}}{8h^2}(f_{i,j+1}^{q}-f_{i,j-1}^{q})\\\\ \n",
    "P_5= & \\frac{kD_n}{h^2}-\\frac{k\\rho_{hapt}}{8h^2}(f_{i+1,j-1}^{q}-f_{i-1,j+1}^{q})\\\\ \n",
    "P_6= & \\frac{kD_n}{h^2}+\\frac{k\\rho_{hapt}}{8h^2}(f_{i+1,j-1}^{q}-f_{i-1,j+1}^{q})\\\\\n",
    "P_7= & \\frac{kD_n}{h^2}-\\frac{k\\rho_{hapt}}{8h^2}(f_{i+1,j+1}^{q}-f_{i-1,j-1}^{q})\\\\ \n",
    "P_8= & \\frac{kD_n}{h^2}+\\frac{k\\rho_{hapt}}{8h^2}(f_{i+1,j+1}^{q}-f_{i-1,j-1}^{q})\n",
    " \\end{aligned}\n",
    "\\end{equation}"
   ]
  },
  {
   "cell_type": "code",
   "execution_count": 46,
   "metadata": {},
   "outputs": [],
   "source": [
    "def mouvement (k,i,j,AC,BC,L1,f,L2,mm,N):\n",
    "    #i,j=L[k][0]\n",
    "    nv=0 #we pose first that number of oucciped adjcant places is zero\n",
    "    Lpp=L_p_p(i,j,N)\n",
    "\n",
    "    for x in Lpp:\n",
    "        nv += AC[x[0],x[1]] #for updating the number of oucciped places\n",
    "    if L1[k][2][2]<=nv:\n",
    "            #on calculer les P_i\n",
    "        if ([i+1,j] and [i-1,j] and [i,j+1] and [i,j-1] and [i+1,j-1] and [i-1,j+1] and [i-1,j-1] and [i+1,j+1] in Lpp)==True:\n",
    "            in1=f[i+1,j]-f[i-1,j]\n",
    "            in2=f[i,j+1]-f[i,j-1]\n",
    "            in3=f[i+1,j-1]-f[i-1,j+1]\n",
    "            in4=f[i+1,j+1]-f[i-1,j-1]\n",
    "            inl=[in1,in2,in3,in4,in5]\n",
    "            coff_L=np.array([[1,-1],[1,1]])\n",
    "            P_list=[np.dot(coff_L,[1,inl[s]]) for s in [0,1,2,3]]\n",
    "            P_1,P_2=P_list[0]\n",
    "            P_3,P_4=P_list[1]\n",
    "            P_5,P_6=P_list[2]\n",
    "            P_7,P_8=P_list[3]\n",
    "            P_0=1-(P_1+P_2+P_3+P_4+P_5+P_6+P_7+P_8)\n",
    "\n",
    "        if ([i+1,j] and [i-1,j] in Lpp)==False:\n",
    "            P_1=c_1\n",
    "            P_2=c_1\n",
    "        elif ([i+1,j] in Lpp)==False:\n",
    "            P_1=c_1-c_2*(-f[i-1,j])\n",
    "            P_2=c_1+c_2*(-f[i-1,j])\n",
    "    \n",
    "        else: #([i-1,j] in Lpp)==False:\n",
    "            P_1=c_1-c_2*(f[i+1,j])\n",
    "            P_2=c_1+c_2*(f[i+1,j])\n",
    "     \n",
    "        \n",
    "        if ([i,j+1] and [i,j-1] in Lpp)==False:\n",
    "            P_3=c_1\n",
    "            P_4=c_1\n",
    "        \n",
    "        elif ([i,j-1] in Lpp)==False:\n",
    "            P_3=c_1-c_2*(f[i,j+1])\n",
    "            P_4=c_1+c_2*(f[i,j+1])\n",
    "        \n",
    "        else: #([i,j+1] in Lpp)==False:\n",
    "            P_3=c_1-c_2*(-f[i,j-1])\n",
    "            P_4=c_1+c_2*(-f[i,j-1])\n",
    "         \n",
    "        if ([i-1,j+1] and [i+1,j-1] in Lpp)== False:\n",
    "            P_5=c_1\n",
    "            P_6=c_1\n",
    "        elif ([i-1,j+1] in Lpp)==False:\n",
    "            P_5=c_1-c_2*(f[i+1,j-1])\n",
    "            P_6=c_1+c_2*(f[i+1,j-1])\n",
    "        else: #([i+1,j-1] in Lpp)==False:\n",
    "            P_5=c_1-c_2*(-f[i-1,j+1])\n",
    "            P_6=c_1+c_2*(-f[i-1,j+1])\n",
    "\n",
    "        if ([i+1,j+1] and [i-1,j-1] in Lpp)==False:\n",
    "            P_7=c_1\n",
    "            P_8=c_1\n",
    "        elif ([i+1,j+1] in Lpp) == False:\n",
    "            P_7=c_1-c_2*(-f[i-1,j-1])\n",
    "            P_8=c_1+c_2*(-f[i-1,j-1])\n",
    "        else: #([i-1,j-1] in Lpp)==False:\n",
    "            P_7=c_1-c_2*(f[i+1,j+1])\n",
    "            P_8=c_1+c_2*(f[i+1,j+1])\n",
    "        P_0=1-(P_1+P_2+P_3+P_4+P_5+P_6+P_7+P_8)\n",
    "        #print (P_1,P_2,P_3,P_4,P_5,P_6,P_7,P_8,P_0)\n",
    "        #on calculer R_i\n",
    "        S=[P_0,P_1,P_2,P_3,P_4,P_5,P_6,P_8]\n",
    "        R_0=[0,S[0]]\n",
    "        T=[R_0]\n",
    "        for s in range (1,8):\n",
    "            R_s=[T[s-1][1],T[s-1][1]+S[s]]\n",
    "            T.append (R_s)\n",
    "        uu= np.random.uniform (0,1)\n",
    "        if uu < T[0][1]:  #no mouvement\n",
    "            L1[k][1]= \"green\"\n",
    "            L2.append (L1[k])\n",
    "            BC[i,j]=\"green\"\n",
    "            #print (\"the cell will not move\")\n",
    "        elif uu >= T[1][0] and uu <T[1][1]  and 0<=i-1<N and 0<=j<N and AC[i-1,j]==0 : #move left\n",
    "            AC[i,j] = 0\n",
    "            AC[i-1,j] = 1\n",
    "            m[i-1,j] = mm\n",
    "            L1[k][0]= [i-1,j]\n",
    "            L2.append (L1[k])\n",
    "            BC[i,j]= 0\n",
    "            BC[i-1,j]=\"green\"\n",
    "        elif uu >= T[2][0] and uu < T[2][1] and 0<=i+1<N and 0<=j<N and AC[i+1,j]==0 : #move right\n",
    "            AC[i,j]= 0\n",
    "            AC[i+1,j]=1\n",
    "            m[i+1,j]= mm\n",
    "            L1[k][0]=[i+1,j]\n",
    "            L2.append (L1[k])\n",
    "            BC[i+1,j]=\"green\"\n",
    "            BC[i,j]= 0\n",
    "        elif uu >= T[3][0] and uu < T[3][1] and 0<=i<N and 0<=j-1<N and AC[i,j-1]==0:  #move down\n",
    "            AC[i,j]= 0\n",
    "            AC[i,j-1]=1\n",
    "            m[i,j-1]= mm\n",
    "            L1[k][0]=[i,j-1]\n",
    "            L2.append (L1[k])\n",
    "            BC[i,j-1]=\"green\"\n",
    "            BC[i,j]= 0\n",
    "        elif uu >= T[4][0] and uu < T[4][1] and 0<=i<N and 0<=j+1<N and AC[i,j-1]==0 :  #move up\n",
    "            AC[i,j]= 0\n",
    "            AC[i,j+1]=1\n",
    "            m[i,j+1]= mm\n",
    "            L1[k][0]=[i,j+1]\n",
    "            L2.append (L1[k])\n",
    "            BC[i,j+1]=\"green\"\n",
    "            BC[i,j]= 0\n",
    "        elif uu >= T[5][1] and uu < T[5][1] and 0<=i-1<N and 0<=j+1<N and AC[i-1,j+1]==0:  #move up left\n",
    "            AC[i,j]= 0\n",
    "            AC[i-1,j+1]=1\n",
    "            m[i-1,j+1]= mm\n",
    "            L1[k][0]=[i-1,j+1]\n",
    "            L2.append (L1[k])\n",
    "            BC[i-1,j+1]=\"green\"\n",
    "            BC[i,j]= 0\n",
    "        elif uu >= T[6][0] and uu < T[6][1] and 0<=i+1<N and 0<=j-1<N and AC[i+1,j-1]==0:  #move down right\n",
    "            AC[i,j]= 0\n",
    "            AC[i+1,j-1]=1\n",
    "            m[i+1,j-1]= mm\n",
    "            L1[k][0]=[i+1,j-1]\n",
    "            L2.append (L1[k])\n",
    "            BC[i+1,j-1]=\"green\"\n",
    "            BC[i,j]= 0\n",
    "        elif uu >= T[7][0] and uu < T[7][1]  and 0<=i-1<N and 0<=j-1<N and AC[i-1,j-1]==0:  #move down left\n",
    "            AC[i,j]= 0\n",
    "            AC[i-1,j-1]=1\n",
    "            m[i-1,j-1]= mm\n",
    "            L1[k][0]=[i-1,j-1]\n",
    "            L2.append (L1[k])\n",
    "            BC[i-1,j-1]=\"green\"\n",
    "            BC[i,j]= 0\n",
    "        elif uu >= T[7][1] and 0<=i+1<N and 0<=j+1<N and AC[i+1,j+1]==0 :  #move up right\n",
    "            AC[i,j]= 0\n",
    "            AC[i+1,j+1]=1\n",
    "            m[i+1,j+1]= mm\n",
    "            L1[k][0]=[i+1,j+1]\n",
    "            L2.append (L1[k])\n",
    "            BC[i+1,j+1]=\"green\"\n",
    "            BC[i,j]= 0\n",
    "        else:\n",
    "            AC[i,j]= 1\n",
    "            L2.append (L1[k])\n",
    "            BC[i,j]=\"green\"\n",
    "        \n",
    "    else:\n",
    "        L1[k][1]=\"green\"\n",
    "        L2.append (L1[k])\n",
    "        BC[i,j]=\"green\"\n",
    "    return (AC,BC,L1,L2,m)"
   ]
  },
  {
   "cell_type": "markdown",
   "metadata": {},
   "source": [
    "### 1.7 Life cycle of the tumour\n",
    "In each step of the simulation:\n",
    "* For all lattice in the grid that occupied by a cell, we update the chemicals fields\n",
    "* For all the living cell in the grid we choose in random one by one a cell and make those steps:\n",
    "\n",
    "    * First we test the occurrence of the spontaneous death which depend on the probability of spontaneous death from the trait vector \n",
    "    * Then we make the first test that determine the phenotype by the thresholds of the model\n",
    "    * Finaly the neural network takes the decision depending in the last updating of the chemicals, and it decide the phenotype of the cell to become quiescent, proliferating or to die due to apoptosis.\n",
    "    \n",
    "if the network decide to make proliferation, then a test that checks if the cell has reached to its proliferation age or not, so it can mitosis if it only if it reached to this age.\n",
    "\n",
    "This test done by picking randomly from $\\mathcal{N}(A_p,A_p/2)$ normal distribution with $A_p$ is the proliferation age from the trait vector, every time step the cell is\n",
    "updated an internal counter $X_p$ and compared it with its proliferation age to decide to mitosis or not.\n",
    "\n",
    "\n",
    "* We save all new cells in the list for preparing them to the next step of the simulation"
   ]
  },
  {
   "cell_type": "code",
   "execution_count": 47,
   "metadata": {},
   "outputs": [],
   "source": [
    "def life_cycle (L1,m,f,g,h,C,BC,AC,L2,mm,N,P_m_1,Ps):\n",
    "\n",
    "    C,g,h,m,f,L1=chemical_fields (L1,AC,f,m,C,g,h)\n",
    "    random.shuffle(L1)\n",
    "    L_test=L1\n",
    "    for k in range (len(L_test)):\n",
    "        i,j=L_test[k][0]\n",
    "        if (L_test[k][1]== \"Necrotic\") == True:\n",
    "            #print (\"this cell is dead\")\n",
    "            L2.append (L1[k])\n",
    "        elif (L_test[k][1]==\"Black\")== True:\n",
    "            L2.append (L1[k])\n",
    "        else:\n",
    "            #spontanous death test:\n",
    "            if np.random.uniform (0,1) < L_test[k][2][3]:\n",
    "                L1[k][1]=\"Black\"\n",
    "                L2.append(L1[k])\n",
    "                BC[i,j]=\"Black\"\n",
    "            else:\n",
    "                t=test_one (L1,k,i,j)\n",
    "                if t==1:\n",
    "                    L1[k][1]=\"Necrotic\"\n",
    "                    BC[i,j] = \"Necrotic\"\n",
    "                    L2.append(L1[k])\n",
    "\n",
    "                elif t==2:\n",
    "                    L1[k][1]=\"green\"\n",
    "                    BC[i,j] = \"green\"\n",
    "                    L2.append(L1[k])\n",
    "                else:\n",
    "                    nd=network_decision(L1,k) #output must be max_index\n",
    "\n",
    "                    if nd[0]==1: #quiessence with probability 80%\n",
    "                        if np.random.uniform (0,1) >= 0.2:\n",
    "                            AC,BC,L1,L2,m=mouvement (k,i,j,AC,BC,L1,f,L2,mm,N)\n",
    "                        else:\n",
    "                            if np.random.normal(L_test[k][2][0],L_test[k][2][0]/2) < L_test[k][2][0]:\n",
    "                                #this cell is quiessence\n",
    "                                AC,BC,L1,L2,m=mouvement (k,i,j,AC,BC,L1,f,L2,mm,N)\n",
    "\n",
    "                            else:\n",
    "                                #print (\"Proliferation test\")\n",
    "                                AC,BC,L1,L2,m=proliferation_test(k,i,j,L1,L2,AC,BC,m,mm,P_m_1,Ps)\n",
    "\n",
    "\n",
    "                    else: #nd[0]==0: #proliferation with probability 80%\n",
    "                        if np.random.uniform (0,1) >= 0.2:\n",
    "                            if np.random.normal(L_test[k][2][0],L_test[k][2][0]/2) < L_test[k][2][0]:\n",
    "                                #this cell is quiessence\n",
    "                                AC,BC,L1,L2,m=mouvement (k,i,j,AC,BC,L1,f,L2,mm,N)\n",
    "                            else:\n",
    "                                #print (\"Proliferation test\")\n",
    "                                AC,BC,L1,L2,m=proliferation_test(k,i,j,L1,L2,AC,BC,m,mm,P_m_1,Ps)\n",
    "\n",
    "                        else:\n",
    "                            AC,BC,L1,L2,m=mouvement (k,i,j,AC,BC,L1,f,L2,mm,N)\n",
    "\n",
    "    L1=L2\n",
    "    L2=[]\n",
    "    ss=len(L1)\n",
    "    return (L1,L2,ss,C,h,g,f,m,AC,BC)"
   ]
  },
  {
   "cell_type": "markdown",
   "metadata": {},
   "source": [
    "# Simulation of the tumor in the Avascular stage"
   ]
  },
  {
   "cell_type": "markdown",
   "metadata": {},
   "source": [
    " We repeat the life cycle steps $q$ time for all the cells, we begin with 4 CSC and we regard the evolution of growth of tumor and enlarge the number of tumor cells with different types and pheno type, and then plotting the result to have figure of the avascular tumour"
   ]
  },
  {
   "cell_type": "code",
   "execution_count": 48,
   "metadata": {},
   "outputs": [],
   "source": [
    "def input2 (N,cc,ff): #it takes as parameters the size of the grid the oxygen and density level \n",
    "    AC= np.zeros((N,N))#initilaze the grid with zeros\n",
    "    NN= int (floor(N/2)) #find the middle of the grid\n",
    "    AC[NN,NN]=1\n",
    "    AC[NN,NN-1]=1\n",
    "    AC[NN-1,NN]=1\n",
    "    AC[NN-1,NN-1]=1\n",
    "\n",
    "    L1=[[[i,j], \"red\", V0, N1,False] for i in range (N) for j in range (N) if AC[i,j]==1]  #we initiliaze L1 with 4 Csc\n",
    "    L2=[]\n",
    "\n",
    "    BC=np.chararray((N,N))\n",
    "    NN= int (floor(N/2))\n",
    "    BC[NN,NN]=\"red\"\n",
    "    BC[NN,NN-1]=\"red\"\n",
    "    BC[NN-1,NN]=\"red\"\n",
    "    BC[NN-1,NN-1]=\"red\"\n",
    "\n",
    "    C=cc*np.ones((N,N))    #oxygen initail values for all position at time 0\n",
    "    f=ff*np.ones((N,N))  #ECM initail values for all position at time 0\n",
    "    g=np.ones((N,N)) #glocose initail values for all position at time 0\n",
    "    h=np.ones((N,N)) #hydrogen initail values for all position at time 0\n",
    "\n",
    "    mm=0.5 #with mm is the initial value of m, we need this to update the proliferation wnd mouvment test\n",
    "\n",
    "    m=np.zeros((N,N))    #MDE initail values for all position that occupied by cancer cell at time 0\n",
    "    NN= int (floor(N/2))\n",
    "    m[NN,NN]=mm\n",
    "    m[NN,NN-1]=mm\n",
    "    m[NN-1,NN]=mm\n",
    "    m[NN-1,NN-1]=mm\n",
    "    return (AC,BC,f,C,m,g,h,L1,L2,mm)"
   ]
  },
  {
   "cell_type": "markdown",
   "metadata": {},
   "source": [
    "we will repeat the simulation q times and show the tumor for diffrent times "
   ]
  },
  {
   "cell_type": "code",
   "execution_count": 19,
   "metadata": {},
   "outputs": [
    {
     "name": "stdout",
     "output_type": "stream",
     "text": [
      "this is the simulation for t= 30\n"
     ]
    },
    {
     "data": {
      "image/png": "[encoded data removed]",
      "text/plain": [
       "<Figure size 288x288 with 2 Axes>"
      ]
     },
     "metadata": {
      "needs_background": "light"
     },
     "output_type": "display_data"
    },
    {
     "name": "stdout",
     "output_type": "stream",
     "text": [
      "this is the simulation for t= 100\n"
     ]
    },
    {
     "data": {
      "image/png": "[encoded data removed]",
      "text/plain": [
       "<Figure size 288x288 with 2 Axes>"
      ]
     },
     "metadata": {
      "needs_background": "light"
     },
     "output_type": "display_data"
    },
    {
     "name": "stdout",
     "output_type": "stream",
     "text": [
      "this is the simulation for t= 200\n"
     ]
    },
    {
     "data": {
      "image/png": "[encoded data removed]",
      "text/plain": [
       "<Figure size 288x288 with 2 Axes>"
      ]
     },
     "metadata": {
      "needs_background": "light"
     },
     "output_type": "display_data"
    }
   ],
   "source": [
    "AC,BC,f,C,m,g,h,L1,L2,mm=input2(N,0.2,1.2)\n",
    "time=[0]\n",
    "NB_Cells=[4]\n",
    "t=0\n",
    "for q in range(400):\n",
    "    L1,L2,ss,C,h,g,f,m,AC,BC=life_cycle (L1,m,f,g,h,C,BC,AC,L2,mm,N,0.2,0.2)\n",
    "    t=t+1\n",
    "    time.append (t)\n",
    "    nbc=len(L1)\n",
    "    NB_Cells.append (nbc)\n",
    "    if nbc>20000:\n",
    "            break\n",
    "    if t==30 or t==100 or t==200:\n",
    "        print(\"this is the simulation for t=\",t)\n",
    "        MM=np.zeros((N,N))\n",
    "        for k in range (len(L1)):\n",
    "            if L1[k][1]==\"red\":\n",
    "                i,j=L1[k][0]\n",
    "                MM[i,j]=1\n",
    "            elif L1[k][1]==\"green\":\n",
    "                i,j=L1[k][0]\n",
    "                MM[i,j]=2\n",
    "            elif L1[k][1]==\"Black\":\n",
    "                i,j=L1[k][0]\n",
    "                MM[i,j]=3\n",
    "            else: #L1[k][1]==\"Necrotic\":\n",
    "                i,j=L1[k][0]\n",
    "                MM[i,j]=4\n",
    "        fig = plt.figure(figsize=(4,4))\n",
    "        ax = fig.add_subplot(111)\n",
    "\n",
    "        cmap= matplotlib.colors.ListedColormap(['white','red','green', 'grey','black'])\n",
    "        plt.imshow(MM, interpolation='none', cmap=cmap)\n",
    "        plt.axis([0, N-1, N-1, 0])\n",
    "        #plt.grid(True)\n",
    "        plt.colorbar()\n",
    "        plt.show()"
   ]
  },
  {
   "cell_type": "markdown",
   "metadata": {},
   "source": [
    "# Changing the tumor morphology "
   ]
  },
  {
   "cell_type": "markdown",
   "metadata": {},
   "source": [
    "hypothesis: to change the tumor morphology we need to kill necrotic cells with diffrent percentages"
   ]
  },
  {
   "cell_type": "markdown",
   "metadata": {},
   "source": [
    "## Deleting cells randomly "
   ]
  },
  {
   "cell_type": "markdown",
   "metadata": {},
   "source": [
    "Methodology:\n",
    "    In this part we will delete necrotic cells at a certain point in time then continue the simulation for diffrent percentages"
   ]
  },
  {
   "cell_type": "markdown",
   "metadata": {},
   "source": [
    "Steps of deleting randomly necrotic cells :\n",
    "1. importing the random package: This module implements pseudo-random number generators for various distributions.\n",
    "2. we will count all the necrotic cells in the tissue and calculate the poucentage .\n",
    "3. we will choose the cell rendomly and search for it's postion in L1 \n",
    "4. we will delete the chosen cell\n",
    "5. we will repeat the procedure until the number of deleted cells is equal to the pourcentage \n"
   ]
  },
  {
   "cell_type": "markdown",
   "metadata": {},
   "source": []
  },
  {
   "cell_type": "code",
   "execution_count": 23,
   "metadata": {},
   "outputs": [
    {
     "name": "stdout",
     "output_type": "stream",
     "text": [
      "this is the simulation for the percentage of 20.0 %\n",
      "time 200\n"
     ]
    },
    {
     "data": {
      "image/png": "[encoded data removed]",
      "text/plain": [
       "<Figure size 288x288 with 2 Axes>"
      ]
     },
     "metadata": {
      "needs_background": "light"
     },
     "output_type": "display_data"
    },
    {
     "name": "stdout",
     "output_type": "stream",
     "text": [
      "this is the simulation for the percentage of 50.0 %\n",
      "time 200\n"
     ]
    },
    {
     "data": {
      "image/png": "[encoded data removed]",
      "text/plain": [
       "<Figure size 288x288 with 2 Axes>"
      ]
     },
     "metadata": {
      "needs_background": "light"
     },
     "output_type": "display_data"
    },
    {
     "name": "stdout",
     "output_type": "stream",
     "text": [
      "this is the simulation for the percentage of 80.0 %\n",
      "time 200\n"
     ]
    },
    {
     "data": {
      "image/png": "[encoded data removed]",
      "text/plain": [
       "<Figure size 288x288 with 2 Axes>"
      ]
     },
     "metadata": {
      "needs_background": "light"
     },
     "output_type": "display_data"
    }
   ],
   "source": [
    "for p in [0.2,0.5,0.8]:#we try the simulation for diffrenf percentages \n",
    "    print(\"this is the simulation for the percentage of\",p*100,'%')\n",
    "    AC,BC,f,C,m,g,h,L1,L2,mm=input2(N,0.2,1.2)\n",
    "    time=[0]\n",
    "    NB_Cells=[4]\n",
    "    t=0\n",
    "    for q in range(203):\n",
    "\n",
    "        L1,L2,ss,C,h,g,f,m,AC,BC=life_cycle (L1,m,f,g,h,C,BC,AC,L2,mm,N,P_m_1,Ps)\n",
    "        t=t+1\n",
    "        time.append (t)\n",
    "        nbc=len(L1)\n",
    "        t_max=q\n",
    "        NB_Cells.append (nbc)\n",
    "        t_exact= (t_max*tau)/24==t\n",
    "\n",
    "        if nbc > 20000:\n",
    "            print('break',q)\n",
    "            break\n",
    "        if t==150 :#we will delete the cells at a certain time \n",
    "\n",
    "            Necro=0\n",
    "            pourc=0\n",
    "            for k in range (len(L1)): #we will count all the necrotic cells\n",
    "                if L1[k][1]==\"Necrotic\":\n",
    "                    Necro=Necro+1\n",
    "            pourc=round(Necro*p) #we will calculate the percantge of the necrotic cell \n",
    "            count=0\n",
    "            pos=0\n",
    "            for k in range (len(L1)):\n",
    "                ch=random.choice(L1) #we will choose randomly a cell\n",
    "                if ch[1]==\"Necrotic\": #verfy if the chosen cell is necrotic\n",
    "                    count=count+1 #calculate the number of the chosen cells\n",
    "                    for pp in range (len(L1)): #search for the postion of the chosen cell\n",
    "                        L1[pp]==ch\n",
    "                        pos=pp\n",
    "                    del(L1[pos])\n",
    "                    if count==pourc: #stop the deleting if the percentage is reached\n",
    "\n",
    "                        break \n",
    "\n",
    "\n",
    "\n",
    "\n",
    "        if  t==200: #showing the simulation after a certain period of time \n",
    "\n",
    "            print(\"time\",t)\n",
    "            MM=np.zeros((N,N))\n",
    "            for k in range (len(L1)):\n",
    "                if L1[k][1]==\"red\":\n",
    "                    i,j=L1[k][0]\n",
    "                    MM[i,j]=1\n",
    "                elif L1[k][1]==\"green\":\n",
    "                    i,j=L1[k][0]\n",
    "                    MM[i,j]=2\n",
    "                elif L1[k][1]==\"Black\":\n",
    "                    i,j=L1[k][0]\n",
    "                    MM[i,j]=3\n",
    "                else: #L1[k][1]==\"Necrotic\":\n",
    "                    i,j=L1[k][0]\n",
    "                    MM[i,j]=4\n",
    "\n",
    "            fig = plt.figure(figsize=(4,4))\n",
    "            ax = fig.add_subplot(111)\n",
    "\n",
    "            cmap= matplotlib.colors.ListedColormap(['white','red','green', 'grey','black'])\n",
    "            plt.imshow(MM, interpolation='none', cmap=cmap)\n",
    "            plt.axis([0, N-1, N-1, 0])\n",
    "          #plt.grid(True)\n",
    "            plt.colorbar()\n",
    "            plt.show()\n",
    "\n",
    "\n",
    "\n",
    "    \n",
    "    "
   ]
  },
  {
   "cell_type": "markdown",
   "metadata": {},
   "source": [
    "### Results :\n",
    "Deleting the necrotic cells randomly doesn't change enough the morpholgy of the cell but creats blank spaces in the necrotic area"
   ]
  },
  {
   "cell_type": "markdown",
   "metadata": {},
   "source": [
    "## Deleting randomly cells that are at the extrimity of the necrotic zone "
   ]
  },
  {
   "cell_type": "markdown",
   "metadata": {},
   "source": [
    "Since in the previous method we have noticed that the deleted cells in the extremity of the necrotic layer have been replaced we chosed to delete cells only from that area with diffrent percentages."
   ]
  },
  {
   "cell_type": "markdown",
   "metadata": {},
   "source": [
    "methodologie :\n",
    "in this part we will calculate two distances one in up half of the cell and another in lower half and create an interval from those two distances [mindistance , maxdistance ] then deleting cells randomly from that interval with diffrent percentages .\n"
   ]
  },
  {
   "cell_type": "markdown",
   "metadata": {},
   "source": [
    "Steps of deleting cells in the extrimity:\n",
    "1. we will calculate two distances by fixing an i and searching for the lowest j of the quiscent cell if j>N/2 and the highst j if j>N/2.\n",
    "2. choose the min and max distance and build our interval \n",
    "3. choosing a cell (since L1 isn't in order the delete will be random ) until  the number of deleted cells is equal to the choosen pourcentage "
   ]
  },
  {
   "cell_type": "code",
   "execution_count": 32,
   "metadata": {},
   "outputs": [
    {
     "data": {
      "image/png": "[encoded data removed]",
      "text/plain": [
       "<IPython.core.display.Image object>"
      ]
     },
     "execution_count": 32,
     "metadata": {
      "image/png": {
       "height": 800,
       "width": 800
      }
     },
     "output_type": "execute_result"
    }
   ],
   "source": [
    "from IPython.display import Image\n",
    "Image(filename='/Users/asus/Desktop/Distancecell.png',width=800,height=800)\n"
   ]
  },
  {
   "cell_type": "code",
   "execution_count": 33,
   "metadata": {},
   "outputs": [],
   "source": [
    "from math import sqrt\n",
    "def Sqr(a): #cette fonction retourne le carré d'un nombre\n",
    "    return a*a\n",
    "\n",
    "def Distance(x1,y1,x2,y2): #calcule la distance euclidienne \n",
    "    return sqrt(Sqr(y2-y1)+Sqr(x2-x1))"
   ]
  },
  {
   "cell_type": "code",
   "execution_count": 35,
   "metadata": {},
   "outputs": [
    {
     "name": "stdout",
     "output_type": "stream",
     "text": [
      "this is the simulation for the percentage of 20.0 %\n",
      "this the simulation at t== 200\n"
     ]
    },
    {
     "data": {
      "image/png": "[encoded data removed]",
      "text/plain": [
       "<Figure size 288x288 with 2 Axes>"
      ]
     },
     "metadata": {
      "needs_background": "light"
     },
     "output_type": "display_data"
    },
    {
     "name": "stdout",
     "output_type": "stream",
     "text": [
      "this is the simulation for the percentage of 50.0 %\n",
      "this the simulation at t== 200\n"
     ]
    },
    {
     "data": {
      "image/png": "[encoded data removed]",
      "text/plain": [
       "<Figure size 288x288 with 2 Axes>"
      ]
     },
     "metadata": {
      "needs_background": "light"
     },
     "output_type": "display_data"
    },
    {
     "name": "stdout",
     "output_type": "stream",
     "text": [
      "this is the simulation for the percentage of 80.0 %\n",
      "this the simulation at t== 200\n"
     ]
    },
    {
     "data": {
      "image/png": "[encoded data removed]",
      "text/plain": [
       "<Figure size 288x288 with 2 Axes>"
      ]
     },
     "metadata": {
      "needs_background": "light"
     },
     "output_type": "display_data"
    }
   ],
   "source": [
    "for p in [0.2,0.5,0.8]:#we try the simulation for diffrenf percentages \n",
    "    print(\"this is the simulation for the percentage of\",p*100,'%')\n",
    "    AC,BC,f,C,m,g,h,L1,L2,mm=input2(N,0.2,1.2)\n",
    "    time=[0]\n",
    "    NB_Cells=[4]\n",
    "    t=0\n",
    "    NN= int (floor(N/2))\n",
    "    for q in range(250):\n",
    "\n",
    "        L1,L2,ss,C,h,g,f,m,AC,BC=life_cycle (L1,m,f,g,h,C,BC,AC,L2,mm,N,P_m_1,Ps)\n",
    "        t=t+1\n",
    "        time.append (t)\n",
    "        nbc=len(L1)\n",
    "        t_max=q\n",
    "        NB_Cells.append (nbc)\n",
    "        t_exact= (t_max*tau)/24==t\n",
    "\n",
    "        #if nbc > 20000:\n",
    "            #print('break',q)\n",
    "            #break\n",
    "        dist=0\n",
    "        max1=[0,0] #initlaizing with the minimum value\n",
    "        if t==150:#Delleting cells on the extrimity at this time \n",
    "            for k in range (len(L1)):\n",
    "                if L1[k][1]==\"green\": #searching for the quiscent cell \n",
    "                    if L1[k][0][0]==N/2:#fixing an i\n",
    "                        if L1[k][0][1] > max1[1] and (L1[k][0][1]< N/2):  #comparing it's j with the middle of the grid \n",
    "                            max1=L1[k][0] #searching for the maximum j \n",
    "\n",
    "                            dist=Distance(max1[0],max1[1],NN,NN) #calculating the euclidien distance between the cell and the middle of th grid\n",
    "\n",
    "            min1=[N,N] #initlaizing with the maximum  value\n",
    "            dist2=0\n",
    "            for k in range (len(L1)):\n",
    "                if L1[k][1]==\"green\": #searching for the quiscent cell \n",
    "                    if L1[k][0][0]==N/2: #fixing an i\n",
    "                        if L1[k][0][1] < min1[1] and L1[k][0][1]> N/2: #comparing it's j with the middle of the grid \n",
    "                            min1=L1[k][0] #searching for the minimum j \n",
    "\n",
    "                            dist2=Distance(min1[0],min1[1],NN,NN) #calculating the euclidien distance between the cell and the middle of th grid\n",
    "\n",
    "\n",
    "            max2=max(dist,dist2) #comparing the two distances \n",
    "            min2=min(dist,dist2)\n",
    "            count=0\n",
    "            Necro=0\n",
    "            pourc=0\n",
    "            for k in range (len(L1)): #count the number of necrotic cells\n",
    "                if L1[k][1]==\"Necrotic\":\n",
    "                    Necro=Necro+1\n",
    "            pourc=round(Necro*p) #counting the percentage \n",
    "            p=len(L1)\n",
    "            L3=list(L1)\n",
    "            length = len(L3)-1\n",
    "            posi=0\n",
    "            for k in range (length): \n",
    "\n",
    "\n",
    "                if (k<length )and ((min2)<= Distance(L3[k][0][0],L3[k][0][1],NN,NN) <= max2) : #checking if the cell is in the interval \n",
    "                     if L3[k][1]==\"Necrotic\" : #cheking if it's necrotic\n",
    "\n",
    "\n",
    "\n",
    "                        length = length -1\n",
    "                        count=count+1 #counting the number of cells deleted\n",
    "                        posi=k-count+1\n",
    "\n",
    "                        del(L1[posi])\n",
    "\n",
    "                        if count==pourc:#stopping deleting the cells if the percentage is reached\n",
    "                            break\n",
    "\n",
    "\n",
    "\n",
    "\n",
    "        #continue the evolution of the tumor\n",
    "        if t==200: #showing at this time the tumor\n",
    "            print('this the simulation at t==',t)\n",
    "\n",
    "\n",
    "            MM=np.zeros((N,N))\n",
    "            for k in range (len(L1)):\n",
    "                if L1[k][1]==\"red\":\n",
    "                    i,j=L1[k][0]\n",
    "                    MM[i,j]=1\n",
    "                elif L1[k][1]==\"green\":\n",
    "                    i,j=L1[k][0]\n",
    "                    MM[i,j]=2\n",
    "                elif L1[k][1]==\"Black\":\n",
    "                    i,j=L1[k][0]\n",
    "                    MM[i,j]=3\n",
    "                else: #L1[k][1]==\"Necrotic\":\n",
    "                    i,j=L1[k][0]\n",
    "                    MM[i,j]=4\n",
    "\n",
    "            fig = plt.figure(figsize=(4,4))\n",
    "            ax = fig.add_subplot(111)\n",
    "\n",
    "            cmap= matplotlib.colors.ListedColormap(['white','red','green', 'grey','black'])\n",
    "            plt.imshow(MM, interpolation='none', cmap=cmap)\n",
    "            plt.axis([0, N-1, N-1, 0])\n",
    "          #plt.grid(True)\n",
    "            plt.colorbar()\n",
    "            plt.show()\n"
   ]
  },
  {
   "cell_type": "markdown",
   "metadata": {},
   "source": [
    "### General results \n"
   ]
  },
  {
   "cell_type": "markdown",
   "metadata": {},
   "source": [
    "Deleting Cells creates blank spaces and don't change enough the merphologie of the tumor "
   ]
  },
  {
   "cell_type": "markdown",
   "metadata": {},
   "source": [
    "## Crushing the cells randomly"
   ]
  },
  {
   "cell_type": "markdown",
   "metadata": {},
   "source": [
    "since deleting cells creates blank spaces in this part we will crush the chosen cell (randomly)  "
   ]
  },
  {
   "cell_type": "markdown",
   "metadata": {},
   "source": [
    "methodolgy : The crushing is a result of comparing i of the chosen cell to N/2 the middle of the grid so if i>N/2 we will move backwards all the cells located in front of the necrotic cell but if i>N we move backwards all the cells located behind the necrotic cell"
   ]
  },
  {
   "cell_type": "code",
   "execution_count": 36,
   "metadata": {},
   "outputs": [
    {
     "data": {
      "image/png": "[encoded data removed]",
      "text/plain": [
       "<IPython.core.display.Image object>"
      ]
     },
     "execution_count": 36,
     "metadata": {
      "image/png": {
       "height": 800,
       "width": 800
      }
     },
     "output_type": "execute_result"
    }
   ],
   "source": [
    "from IPython.display import Image\n",
    "Image(filename='/Users/asus/Desktop/ImageCA.PNG',width=800,height=800)"
   ]
  },
  {
   "cell_type": "code",
   "execution_count": 17,
   "metadata": {},
   "outputs": [
    {
     "name": "stdout",
     "output_type": "stream",
     "text": [
      "this is the simulation for the percentage of 20.0 %\n"
     ]
    },
    {
     "data": {
      "image/png": "[encoded data removed]",
      "text/plain": [
       "<Figure size 288x288 with 2 Axes>"
      ]
     },
     "metadata": {
      "needs_background": "light"
     },
     "output_type": "display_data"
    },
    {
     "name": "stdout",
     "output_type": "stream",
     "text": [
      "this is the simulation for the percentage of 50.0 %\n"
     ]
    },
    {
     "data": {
      "image/png": "[encoded data removed]",
      "text/plain": [
       "<Figure size 288x288 with 2 Axes>"
      ]
     },
     "metadata": {
      "needs_background": "light"
     },
     "output_type": "display_data"
    },
    {
     "name": "stdout",
     "output_type": "stream",
     "text": [
      "this is the simulation for the percentage of 80.0 %\n"
     ]
    },
    {
     "data": {
      "image/png": "[encoded data removed]",
      "text/plain": [
       "<Figure size 288x288 with 2 Axes>"
      ]
     },
     "metadata": {
      "needs_background": "light"
     },
     "output_type": "display_data"
    }
   ],
   "source": [
    "for p in [0.2,0.5,0.8]:#we try the simulation for diffrenf percentages \n",
    "    print(\"this is the simulation for the percentage of\",p*100,'%')\n",
    "    AC,BC,f,C,m,g,h,L1,L2,mm=input2(N,0.2,1.2)\n",
    "    time=[0]\n",
    "    NB_Cells=[4]\n",
    "    t=0\n",
    "    for q in range(150):\n",
    "\n",
    "        L1,L2,ss,C,h,g,f,m,AC,BC=life_cycle (L1,m,f,g,h,C,BC,AC,L2,mm,N,P_m_1,Ps)\n",
    "        t=t+1\n",
    "        time.append (t)\n",
    "        nbc=len(L1)\n",
    "        t_max=q\n",
    "        NB_Cells.append (nbc)\n",
    "        t_exact= (t_max*tau)/24==t\n",
    "\n",
    "\n",
    "\n",
    "\n",
    "\n",
    "\n",
    "\n",
    "\n",
    "\n",
    "        if  t==100:\n",
    "            Necro=0\n",
    "            pourc=0\n",
    "            #print(len(L1))\n",
    "            L4=list(L1)\n",
    "            length=len(L4)-1\n",
    "            #calculer le nombre total des celules necrotic\n",
    "            for k in range (length):\n",
    "                #if (k<length):\n",
    "                    #print(k)\n",
    "                if L4[k][1]==\"Necrotic\":\n",
    "                    Necro=Necro+1\n",
    "            #calculer le poucrntege des cellules necrotic\n",
    "            pourc=round(Necro*p)\n",
    "            count=0\n",
    "            pos=0\n",
    "            #avancer et supprimer les celules \n",
    "            while count!= pourc :\n",
    "                ch=random.choice(L1)\n",
    "                if ch[1]==\"Necrotic\":\n",
    "                    count=count+1\n",
    "                    #print(count)\n",
    "                    #touver la postion de la cellule choisit au hasard \n",
    "                    for pp in range (len(L1)-1):\n",
    "                        #pour touver la postion du ch dans L1\n",
    "                        #print('this is pp',pp)\n",
    "                        #print('this is len l 1',len(L1))\n",
    "                        if L1[pp]==ch:\n",
    "                            pos=pp\n",
    "                    #deplacer les cellules        \n",
    "                    if (L1[pos][0][0] < N/2):\n",
    "                        for j in range (len(L1)-1):\n",
    "                            if L1[j][0][1]==L1[pos][0][1]:\n",
    "                                if (L1[j][0][0]<L1[pos][0][0]):\n",
    "                                    L1[j][0][0]=L1[j][0][0]+1\n",
    "                    else:\n",
    "                        for j in range (len(L1)-1):\n",
    "                            if L1[j][0][1]==L1[pos][0][1]:\n",
    "                                if (L1[j][0][0]>L1[pos][0][0]):\n",
    "                                    L1[j][0][0]=L1[j][0][0]-1\n",
    "                    #effacer la cellules\n",
    "                    del(L1[pos])\n",
    "\n",
    "\n",
    "\n",
    "            MM=np.zeros((N,N))\n",
    "            for k in range (len(L1)):\n",
    "                if L1[k][1]==\"red\":\n",
    "                    i,j=L1[k][0]\n",
    "                    MM[i,j]=1\n",
    "                elif L1[k][1]==\"green\":\n",
    "                    i,j=L1[k][0]\n",
    "                    MM[i,j]=2\n",
    "                elif L1[k][1]==\"Black\":\n",
    "                    i,j=L1[k][0]\n",
    "                    MM[i,j]=3\n",
    "                else: #L1[k][1]==\"Necrotic\":\n",
    "                    i,j=L1[k][0]\n",
    "                    MM[i,j]=4\n",
    "\n",
    "            fig = plt.figure(figsize=(4,4))\n",
    "            ax = fig.add_subplot(111)\n",
    "\n",
    "            cmap= matplotlib.colors.ListedColormap(['white','red','green', 'grey','black'])\n",
    "            plt.imshow(MM, interpolation='none', cmap=cmap)\n",
    "            plt.axis([0, N-1, N-1, 0])\n",
    "          #plt.grid(True)\n",
    "            plt.colorbar()\n",
    "            plt.show()\n"
   ]
  },
  {
   "cell_type": "markdown",
   "metadata": {},
   "source": [
    "Crushing the cells at a certain point and continue the simulation"
   ]
  },
  {
   "cell_type": "code",
   "execution_count": 54,
   "metadata": {},
   "outputs": [
    {
     "name": "stdout",
     "output_type": "stream",
     "text": [
      "this is the simulation for the percentage of 20.0 %\n",
      "the crushin was made at this time t== 100\n",
      "this is the evolution of the simulation at this point of time t== 150\n",
      "150\n"
     ]
    },
    {
     "data": {
      "image/png": "[encoded data removed]",
      "text/plain": [
       "<Figure size 288x288 with 2 Axes>"
      ]
     },
     "metadata": {
      "needs_background": "light"
     },
     "output_type": "display_data"
    },
    {
     "name": "stdout",
     "output_type": "stream",
     "text": [
      "this is the simulation for the percentage of 50.0 %\n",
      "the crushin was made at this time t== 100\n",
      "this is the evolution of the simulation at this point of time t== 150\n",
      "150\n"
     ]
    },
    {
     "data": {
      "image/png": "[encoded data removed]",
      "text/plain": [
       "<Figure size 288x288 with 2 Axes>"
      ]
     },
     "metadata": {
      "needs_background": "light"
     },
     "output_type": "display_data"
    },
    {
     "name": "stdout",
     "output_type": "stream",
     "text": [
      "this is the simulation for the percentage of 80.0 %\n",
      "the crushin was made at this time t== 100\n",
      "this is the evolution of the simulation at this point of time t== 150\n",
      "150\n"
     ]
    },
    {
     "data": {
      "image/png": "[encoded data removed]",
      "text/plain": [
       "<Figure size 288x288 with 2 Axes>"
      ]
     },
     "metadata": {
      "needs_background": "light"
     },
     "output_type": "display_data"
    }
   ],
   "source": [
    "for p in [0.2,0.5,0.8]:#we try the simulation for diffrenf percentages \n",
    "    print(\"this is the simulation for the percentage of\",p*100,'%')\n",
    "    AC,BC,f,C,m,g,h,L1,L2,mm=input2(N,0.2,1.2)\n",
    "    time=[0]\n",
    "    NB_Cells=[4]\n",
    "    t=0\n",
    "    for q in range(170):\n",
    "        L1,L2,ss,C,h,g,f,m,AC,BC=life_cycle (L1,m,f,g,h,C,BC,AC,L2,mm,N,P_m_1,Ps)\n",
    "        t=t+1\n",
    "        time.append (t)\n",
    "        nbc=len(L1)\n",
    "        t_max=q\n",
    "        NB_Cells.append (nbc)\n",
    "        t_exact= (t_max*tau)/24==t\n",
    "\n",
    "        #if nbc > 20000:\n",
    "            #print('break',q)\n",
    "            #break\n",
    "\n",
    "\n",
    "\n",
    "\n",
    "\n",
    "\n",
    "        if t==100 : #we will crush the cells at this point of time\n",
    "            print('the crushing was made at this time t==',t)\n",
    "            Necro=0\n",
    "            pourc=0\n",
    "            #print(len(L1))\n",
    "            L4=list(L1)\n",
    "            length=len(L4)-1\n",
    "            #calculer le nombre total des celules necrotic\n",
    "            for k in range (length):\n",
    "                #if (k<length):\n",
    "                    #print(k)\n",
    "                if L4[k][1]==\"Necrotic\":\n",
    "                    Necro=Necro+1\n",
    "            #calculer le poucrntege des cellules necrotic\n",
    "            pourc=round(Necro*p)\n",
    "            count=0\n",
    "            pos=0\n",
    "            #avancer et supprimer les celules \n",
    "            while count!= pourc :\n",
    "                ch=random.choice(L1)\n",
    "                if ch[1]==\"Necrotic\":\n",
    "                    count=count+1\n",
    "                    #print(count)\n",
    "                    #touver la postion de la cellule choisit au hasard \n",
    "                    for pp in range (len(L1)-1):\n",
    "                        #pour touver la postion du ch dans L1\n",
    "                        #print('this is pp',pp)\n",
    "                        #print('this is len l 1',len(L1))\n",
    "                        if L1[pp]==ch:\n",
    "                            pos=pp\n",
    "                    #deplacer les cellules        \n",
    "                    if (L1[pos][0][0] < N/2):\n",
    "                        for j in range (len(L1)-1):\n",
    "                            if L1[j][0][1]==L1[pos][0][1]:\n",
    "                                if (L1[j][0][0]<L1[pos][0][0]):\n",
    "                                    L1[j][0][0]=L1[j][0][0]+1\n",
    "                    else:\n",
    "                        for j in range (len(L1)-1):\n",
    "                            if L1[j][0][1]==L1[pos][0][1]:\n",
    "                                if (L1[j][0][0]>L1[pos][0][0]):\n",
    "                                    L1[j][0][0]=L1[j][0][0]-1\n",
    "                    #effacer la cellules\n",
    "                    del(L1[pos])\n",
    "\n",
    "\n",
    "        if t==150: #showing the simulation at this point of time \n",
    "            print('this is the evolution of the simulation at this point of time t==',t)\n",
    "            print(t)\n",
    "            MM=np.zeros((N,N))\n",
    "            for k in range (len(L1)):\n",
    "                if L1[k][1]==\"red\":\n",
    "                    i,j=L1[k][0]\n",
    "                    MM[i,j]=1\n",
    "                elif L1[k][1]==\"green\":\n",
    "                    i,j=L1[k][0]\n",
    "                    MM[i,j]=2\n",
    "                elif L1[k][1]==\"Black\":\n",
    "                    i,j=L1[k][0]\n",
    "                    MM[i,j]=3\n",
    "                else: #L1[k][1]==\"Necrotic\":\n",
    "                    i,j=L1[k][0]\n",
    "                    MM[i,j]=4\n",
    "\n",
    "\n",
    "\n",
    "            fig = plt.figure(figsize=(4,4))\n",
    "            ax = fig.add_subplot(111)\n",
    "\n",
    "            cmap= matplotlib.colors.ListedColormap(['white','red','green', 'grey','black'])\n",
    "            plt.imshow(MM, interpolation='none', cmap=cmap)\n",
    "            plt.axis([0, N-1, N-1, 0])\n",
    "          #plt.grid(True)\n",
    "            plt.colorbar()\n",
    "            plt.show()\n",
    "\n",
    "          #if nbc <= 20000:\n",
    "              #NB_Cells.append (nbc)\n",
    "          #else:\n",
    "              #nbc=20000\n",
    "              #NB_Cells.append (nbc)"
   ]
  },
  {
   "cell_type": "markdown",
   "metadata": {},
   "source": [
    "### Crushing cells that are in the extrimity of the necrotic layer"
   ]
  },
  {
   "cell_type": "markdown",
   "metadata": {},
   "source": [
    "Instead of crushing cells all over the nectortic area in this part we will only crush cells in the extrimity with diffrent percentages "
   ]
  },
  {
   "cell_type": "code",
   "execution_count": 52,
   "metadata": {},
   "outputs": [
    {
     "name": "stdout",
     "output_type": "stream",
     "text": [
      "this is the simulation for the percentage of 20.0 %\n",
      "we have crushed  20.0 % of cells at this time 100\n",
      "we will show the simulation for this time  115\n"
     ]
    },
    {
     "data": {
      "image/png": "[encoded data removed]",
      "text/plain": [
       "<Figure size 288x288 with 2 Axes>"
      ]
     },
     "metadata": {
      "needs_background": "light"
     },
     "output_type": "display_data"
    },
    {
     "name": "stdout",
     "output_type": "stream",
     "text": [
      "this is the simulation for the percentage of 50.0 %\n",
      "we have crushed  50.0 % of cells at this time 100\n",
      "we will show the simulation for this time  115\n"
     ]
    },
    {
     "data": {
      "image/png": "[encoded data removed]",
      "text/plain": [
       "<Figure size 288x288 with 2 Axes>"
      ]
     },
     "metadata": {
      "needs_background": "light"
     },
     "output_type": "display_data"
    },
    {
     "name": "stdout",
     "output_type": "stream",
     "text": [
      "this is the simulation for the percentage of 80.0 %\n",
      "we have crushed  80.0 % of cells at this time 100\n",
      "we will show the simulation for this time  115\n"
     ]
    },
    {
     "data": {
      "image/png": "[encoded data removed]",
      "text/plain": [
       "<Figure size 288x288 with 2 Axes>"
      ]
     },
     "metadata": {
      "needs_background": "light"
     },
     "output_type": "display_data"
    }
   ],
   "source": [
    "for p in [0.2,0.5,0.8]:#we try the simulation for diffrenf percentages \n",
    "    print(\"this is the simulation for the percentage of\",p*100,'%')\n",
    "    AC,BC,f,C,m,g,h,L1,L2,mm=input2(N,0.2,1.2)\n",
    "    time=[0]\n",
    "    NB_Cells=[4]\n",
    "    t=0\n",
    "    for q in range(200):\n",
    "   \n",
    "        L1,L2,ss,C,h,g,f,m,AC,BC=life_cycle (L1,m,f,g,h,C,BC,AC,L2,mm,N,P_m_1,Ps)\n",
    "        t=t+1\n",
    "        time.append (t)\n",
    "        nbc=len(L1)\n",
    "        t_max=q\n",
    "        NB_Cells.append (nbc)\n",
    "        t_exact= (t_max*tau)/24==t\n",
    "\n",
    "        \n",
    "        if t==100:\n",
    "            print('we have crushed ',p*100,'% of cells at this time',t)\n",
    "            dist=0\n",
    "            max1=[0,0]\n",
    "            #calculer une premiere distance de la partie superiere de la cellule\n",
    "            for k in range (len(L1)):\n",
    "                if L1[k][1]==\"green\":\n",
    "                    if L1[k][0][0]==N/2:\n",
    "                        if L1[k][0][1] > max1[1] and (L1[k][0][1]< N/2):\n",
    "                            max1=L1[k][0]\n",
    "                            #print(max1)\n",
    "                            dist=Distance(max1[0],max1[1],NN,NN)\n",
    "            \n",
    "            min1=[N,N]\n",
    "            #calculer une 2eme distance de la partie inferieure de la cellule\n",
    "\n",
    "            dist2=0\n",
    "            for k in range (len(L1)):\n",
    "                if L1[k][1]==\"green\":\n",
    "                    if L1[k][0][0]==N/2:\n",
    "                        if L1[k][0][1] < min1[1] and L1[k][0][1]> N/2:\n",
    "                            min1=L1[k][0]\n",
    "                            #print(min1)\n",
    "                            dist2=Distance(min1[0],min1[1],NN,NN)\n",
    "            max2=max(dist,dist2)\n",
    "            min2=min(dist,dist2)\n",
    "            count=0\n",
    "            Necro=0\n",
    "            pourc=0\n",
    "            for k in range (len(L1)):\n",
    "                if L1[k][1]==\"Necrotic\":\n",
    "                    Necro=Necro+1\n",
    "            pourc=round(Necro*0.4)\n",
    "            p=len(L1)\n",
    "            L3=list(L1)\n",
    "            length = len(L3)-1\n",
    "            posi=0\n",
    "            \n",
    "            for k in range (length):\n",
    "\n",
    "\n",
    "                if (k<length )and (min2<= Distance(L3[k][0][0],L3[k][0][1],NN,NN) <= max2) :\n",
    "                     if L3[k][1]==\"Necrotic\" :\n",
    "                        length = length -1\n",
    "                        count=count+1\n",
    "                        posi=k-count+1\n",
    "                       \n",
    "                        if (L1[posi][0][0] < N/2):\n",
    "                            for j in range (len(L1)):\n",
    "                                if L1[j][0][1]==L1[posi][0][1]:\n",
    "                                    if (L1[j][0][0]<L1[posi][0][0]):\n",
    "                                        L1[j][0][0]=L1[j][0][0]+1\n",
    "                        else:\n",
    "                            #si les i>N/2 on va avancer les cellules precedentes on diminuant les i\n",
    "\n",
    "\n",
    "                            for j in range (len(L1)):\n",
    "                                if L1[j][0][1]==L1[posi][0][1]:\n",
    "                                    if (L1[j][0][0]>L1[posi][0][0]):\n",
    "\n",
    "                                        L1[j][0][0]=L1[j][0][0]-1\n",
    "                        del(L1[posi])\n",
    "\n",
    "\n",
    "                        if count==pourc:\n",
    "                            break\n",
    "        if t==115:\n",
    "            print('we will show the simulation for this time ',t)\n",
    "            MM=np.zeros((N,N))\n",
    "            for k in range (len(L1)):\n",
    "                if L1[k][1]==\"red\":\n",
    "                    i,j=L1[k][0]\n",
    "                    MM[i,j]=1\n",
    "                elif L1[k][1]==\"green\":\n",
    "                    i,j=L1[k][0]\n",
    "                    MM[i,j]=2\n",
    "                elif L1[k][1]==\"Black\":\n",
    "                    i,j=L1[k][0]\n",
    "                    MM[i,j]=3\n",
    "                else: #L1[k][1]==\"Necrotic\":\n",
    "                    i,j=L1[k][0]\n",
    "                    MM[i,j]=4\n",
    "\n",
    "            fig = plt.figure(figsize=(4,4))\n",
    "            ax = fig.add_subplot(111)\n",
    "\n",
    "            cmap= matplotlib.colors.ListedColormap(['white','red','green', 'grey','black'])\n",
    "            plt.imshow(MM, interpolation='none', cmap=cmap)\n",
    "            plt.axis([0, N-1, N-1, 0])\n",
    "                  #plt.grid(True)\n",
    "            plt.colorbar()\n",
    "            plt.show()\n",
    "\n",
    "\n",
    "\n",
    "\n",
    "\n"
   ]
  },
  {
   "cell_type": "markdown",
   "metadata": {},
   "source": [
    "# Les courbes "
   ]
  },
  {
   "cell_type": "markdown",
   "metadata": {},
   "source": []
  },
  {
   "cell_type": "code",
   "execution_count": 26,
   "metadata": {},
   "outputs": [],
   "source": [
    "def simulation2 (L1,m,g,f,h,C,BC,AC,L2,mm,N,P_m_1,Ps):\n",
    "    NB_Cells=[4]\n",
    "    t=0\n",
    "    # initilaize the lists that contains the number of cells \n",
    "    NB_proli=[4]\n",
    "    NB_Qui=[0]\n",
    "    NB_Necr=[0]\n",
    "    NB_mut=[0]\n",
    "    \n",
    "    time=[0]\n",
    "    for q in range(400): #the simulation is made in q steps \n",
    "        L1,L2,ss,C,h,g,f,m,AC,BC=life_cycle (L1,m,f,g,h,C,BC,AC,L2,mm,N,P_m_1,Ps)\n",
    "        #number total of the cells:\n",
    "        Cells_Nbr=len (L1) #contains all the number of cells \n",
    "        NB_Cells.append (Cells_Nbr)\n",
    "        t=t+1\n",
    "        time.append (t) #we add the time \n",
    "        #for calculating the max time that it reached to its max size\n",
    "        t_max=q\n",
    "        \n",
    "        prof=4\n",
    "        Qui=0\n",
    "        Necro=0\n",
    "        Apop=0\n",
    "        Muteted=0\n",
    "        for k in range (len(L1)):\n",
    "            if L1[k][1]==\"red\": #calculate the number of proli cells \n",
    "                prof=prof+1 \n",
    "            elif L1[k][1]==\"green\": #calculate the number of quiscent cells\n",
    "                Qui=Qui+1\n",
    "            elif L1[k][1]==\"Necrotic\": #calculate the number of necrotic cells\n",
    "                Necro=Necro+1\n",
    "            elif L1[k][1]==\"blue\": #calculate the number of mutated cells \n",
    "                Muteted=Muteted+1\n",
    "            else:\n",
    "                Apop=Apop+1\n",
    "        NB_proli.append(prof) #add the number of proli cells\n",
    "        NB_Qui.append(Qui)  #add the number of quiscent cells\n",
    "        NB_Necr.append(Necro)  #add the number of necrotic cells\n",
    "        NB_mut.append(Muteted)  #add the number of mutated cells\n",
    "        \n",
    "        \n",
    "\n",
    "    ss=[0]\n",
    "    d=1\n",
    "    for i in range(1,len(NB_Cells)):\n",
    "        ss.append(math.log(NB_Cells[i]/time[i]))  #calculate the rate growth\n",
    "        #print (ss)\n",
    "        d=np.abs(ss[i]-ss[i-1])\n",
    "        if d<0.05:\n",
    "            r=ss[i]\n",
    "        else:\n",
    "            r=ss[i]\n",
    "    #return (r,NB_Cells,time,L1,t_max,m,g,f,h,C,BC,AC)\n",
    "    return (r,t_max,NB_Cells,time,ss,NB_proli,NB_Qui,NB_Necr,NB_mut)"
   ]
  },
  {
   "cell_type": "markdown",
   "metadata": {},
   "source": [
    "## Visulation des courbes pour C=0.2 et f=1.2 \n"
   ]
  },
  {
   "cell_type": "code",
   "execution_count": 27,
   "metadata": {},
   "outputs": [],
   "source": [
    "import math"
   ]
  },
  {
   "cell_type": "code",
   "execution_count": 50,
   "metadata": {},
   "outputs": [],
   "source": [
    "AC,BC,f,C,m,g,h,L1,L2,mm=input2(N,0.2,1.2)\n",
    "r,t_max,NB_Cells,time,ss,NB_proli,NB_Qui,NB_Necr,NB_mut=simulation2 (L1,m,g,f,h,C,BC,AC,L2,mm,N,P_m_1,Ps) #To have the lists that have the numbr of every cell type and the time of the simulation "
   ]
  },
  {
   "cell_type": "code",
   "execution_count": null,
   "metadata": {},
   "outputs": [],
   "source": []
  },
  {
   "cell_type": "markdown",
   "metadata": {},
   "source": [
    "Time according to the number of proliferating cells in blue and mutated cells in orange "
   ]
  },
  {
   "cell_type": "code",
   "execution_count": 51,
   "metadata": {},
   "outputs": [
    {
     "data": {
      "text/plain": [
       "(0, 1400)"
      ]
     },
     "execution_count": 51,
     "metadata": {},
     "output_type": "execute_result"
    },
    {
     "data": {
      "image/png": "[encoded data removed]",
      "text/plain": [
       "<Figure size 432x288 with 1 Axes>"
      ]
     },
     "metadata": {
      "needs_background": "light"
     },
     "output_type": "display_data"
    }
   ],
   "source": [
    "plt.plot(time,NB_proli,time,NB_mut)\n",
    "matplotlib.pyplot.ylim(0,1400)"
   ]
  },
  {
   "cell_type": "markdown",
   "metadata": {},
   "source": [
    "Time according to the number of quiscent cells in blue and necrotic cells in orange "
   ]
  },
  {
   "cell_type": "code",
   "execution_count": 52,
   "metadata": {},
   "outputs": [
    {
     "data": {
      "text/plain": [
       "(0, 100000)"
      ]
     },
     "execution_count": 52,
     "metadata": {},
     "output_type": "execute_result"
    },
    {
     "data": {
      "image/png": "[encoded data removed]",
      "text/plain": [
       "<Figure size 432x288 with 1 Axes>"
      ]
     },
     "metadata": {
      "needs_background": "light"
     },
     "output_type": "display_data"
    }
   ],
   "source": [
    "plt.plot(time,NB_Qui,time,NB_Necr)\n",
    "matplotlib.pyplot.ylim(0,100000)"
   ]
  },
  {
   "cell_type": "markdown",
   "metadata": {},
   "source": [
    "## Visulation des courbes pour C=1.2 et f=0.2 \n"
   ]
  },
  {
   "cell_type": "code",
   "execution_count": null,
   "metadata": {},
   "outputs": [],
   "source": [
    "import math"
   ]
  },
  {
   "cell_type": "code",
   "execution_count": 53,
   "metadata": {},
   "outputs": [],
   "source": [
    "AC,BC,f,C,m,g,h,L1,L2,mm=input2(N,1.2,0.2)\n",
    "r,t_max,NB_Cells,time,ss,NB_proli,NB_Qui,NB_Necr,NB_mut=simulation2 (L1,m,g,f,h,C,BC,AC,L2,mm,N,P_m_1,Ps)\n"
   ]
  },
  {
   "cell_type": "markdown",
   "metadata": {},
   "source": [
    "Time according to the number of proliferating cells in blue and mutated cells in orange "
   ]
  },
  {
   "cell_type": "code",
   "execution_count": 55,
   "metadata": {},
   "outputs": [
    {
     "data": {
      "text/plain": [
       "(0, 1400)"
      ]
     },
     "execution_count": 55,
     "metadata": {},
     "output_type": "execute_result"
    },
    {
     "data": {
      "image/png": "[encoded data removed]",
      "text/plain": [
       "<Figure size 432x288 with 1 Axes>"
      ]
     },
     "metadata": {
      "needs_background": "light"
     },
     "output_type": "display_data"
    }
   ],
   "source": [
    "plt.plot(time,NB_proli,time,NB_mut)\n",
    "matplotlib.pyplot.ylim(0,1400)"
   ]
  },
  {
   "cell_type": "markdown",
   "metadata": {},
   "source": [
    "Time according to the number of quiscent cells in blue and necrotic cells in orange "
   ]
  },
  {
   "cell_type": "code",
   "execution_count": 56,
   "metadata": {},
   "outputs": [
    {
     "data": {
      "text/plain": [
       "(0, 100000)"
      ]
     },
     "execution_count": 56,
     "metadata": {},
     "output_type": "execute_result"
    },
    {
     "data": {
      "image/png": "[encoded data removed]",
      "text/plain": [
       "<Figure size 432x288 with 1 Axes>"
      ]
     },
     "metadata": {
      "needs_background": "light"
     },
     "output_type": "display_data"
    }
   ],
   "source": [
    "plt.plot(time,NB_Qui,time,NB_Necr)\n",
    "matplotlib.pyplot.ylim(0,100000)"
   ]
  },
  {
   "cell_type": "code",
   "execution_count": null,
   "metadata": {},
   "outputs": [],
   "source": []
  },
  {
   "cell_type": "code",
   "execution_count": null,
   "metadata": {},
   "outputs": [],
   "source": []
  },
  {
   "cell_type": "code",
   "execution_count": null,
   "metadata": {},
   "outputs": [],
   "source": []
  }
 ],
 "metadata": {
  "kernelspec": {
   "display_name": "Python 3",
   "language": "python",
   "name": "python3"
  },
  "language_info": {
   "codemirror_mode": {
    "name": "ipython",
    "version": 3
   },
   "file_extension": ".py",
   "mimetype": "text/x-python",
   "name": "python",
   "nbconvert_exporter": "python",
   "pygments_lexer": "ipython3",
   "version": "3.7.0"
  }
 },
 "nbformat": 4,
 "nbformat_minor": 2
}
